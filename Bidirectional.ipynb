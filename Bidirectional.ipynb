{
 "cells": [
  {
   "cell_type": "markdown",
   "id": "ae798e28-45c8-401a-891d-fdfa71c6516a",
   "metadata": {
    "collapsed": false
   },
   "source": [
    "# Bidirectional simulation \n",
    "\n",
    "In this demonstration, we'll construct a basic Bidirectional situation and simulate the evacuation of agents.\n",
    "\n",
    "Let's begin by importing the required packages for our simulation:"
   ]
  },
  {
   "cell_type": "code",
   "execution_count": null,
   "id": "9dba16d9",
   "metadata": {
    "collapsed": false,
    "tags": [
     "hide-input"
    ]
   },
   "outputs": [],
   "source": [
    "from shapely import GeometryCollection, Polygon, to_wkt, unary_union\n",
    "import pathlib\n",
    "import jupedsim as jps\n",
    "from jupedsim.distributions import distribute_by_number\n",
    "import sqlite3  # parse trajectory db\n",
    "import numpy as np\n",
    "import pandas as pd\n",
    "import plotly.express as px\n",
    "import plotly.graph_objects as go\n",
    "from plotly.graph_objs import Figure\n",
    "import pedpy # analysis\n",
    "%matplotlib inline"
   ]
  },
  {
   "cell_type": "markdown",
   "id": "4c1eae67-0c1e-4f0b-b1f7-4e383e9092c4",
   "metadata": {
    "collapsed": false
   },
   "source": [
    "## Setting up a geometry\n",
    "\n",
    " We will be using the a bottleneck setup as used in the experiments published by [Adrian2018]."
   ]
  },
  {
   "cell_type": "code",
   "execution_count": null,
   "id": "a45d0955-7092-4dda-bc44-707893e4449b",
   "metadata": {
    "collapsed": false
   },
   "outputs": [],
   "source": [
    "complete_area = [\n",
    "        (7, -2),\n",
    "        (7, 6),\n",
    "        (-7, 6),\n",
    "        (-7, -2),\n",
    "    ]\n",
    "obstacles=[\n",
    "        # left barrier\n",
    "        [\n",
    "            (-5.25, 1.5),\n",
    "            (-5.25, 3.5),\n",
    "            (5.25, 3.5),\n",
    "            (5.25, 1.5),\n",
    "            (5, 1.5),\n",
    "            (5, 3.25),\n",
    "            (-5, 3.25),\n",
    "            (-5, 1.5),\n",
    "        ],\n",
    "        # right barrier\n",
    "        [\n",
    "            (-5.25, 0.5),\n",
    "            (-5.25, -1.5),\n",
    "            (5.25, -1.5),\n",
    "            (5.25, 0.5),\n",
    "            (5, 0.5),\n",
    "            (5, -1.25),\n",
    "            (-5, -1.25),\n",
    "            (-5, 0.5),\n",
    "        ],\n",
    "    ]\n",
    "walkable_area = pedpy.WalkableArea(complete_area, obstacles)\n",
    "geometry = jps.geometry_from_shapely(walkable_area._polygon)"
   ]
  },
  {
   "cell_type": "code",
   "execution_count": null,
   "id": "ceef2b20-2aeb-44f0-a8e5-06902bb43dee",
   "metadata": {
    "collapsed": false,
    "tags": [
     "hide-input"
    ]
   },
   "outputs": [],
   "source": [
    "pedpy.plot_walkable_area(walkable_area=walkable_area);"
   ]
  },
  {
   "cell_type": "markdown",
   "id": "06443296",
   "metadata": {
    "collapsed": false
   },
   "source": [
    "## Operational model\n",
    "<a id=\"model\"></a>\n",
    "Once the geometry is set, our subsequent task is to specify the model and its associated parameters.\n",
    "For this demonstration, we'll employ the \"collision-free\" model."
   ]
  },
  {
   "cell_type": "code",
   "execution_count": null,
   "id": "02041052",
   "metadata": {
    "collapsed": false
   },
   "outputs": [],
   "source": [
    "profile_id = 1\n",
    "model_builder = jps.VelocityModelBuilder(a_ped=8.12, d_ped=0.11, a_wall=0.5, d_wall=0.02)\n",
    "model_builder.add_parameter_profile(id=profile_id, time_gap=1, tau=0.5, v0=1.2, radius=0.2)\n",
    "model = model_builder.build()"
   ]
  },
  {
   "cell_type": "markdown",
   "id": "f2f206a3",
   "metadata": {
    "collapsed": false
   },
   "source": [
    "## Setting Up the Simulation Object\n",
    "\n",
    "Having established the model and geometry details, and combined with other parameters such as the time step $dt$, we can proceed to construct our simulation object as illustrated below:"
   ]
  },
  {
   "cell_type": "code",
   "execution_count": null,
   "id": "36627194",
   "metadata": {
    "collapsed": false
   },
   "outputs": [],
   "source": [
    "dt = 0.01\n",
    "simulation = jps.Simulation(model=model, geometry=geometry, dt=dt)"
   ]
  },
  {
   "cell_type": "markdown",
   "id": "64564e7f",
   "metadata": {
    "collapsed": false
   },
   "source": [
    "## Specifying Routing Details\n",
    "\n",
    "At this juncture, we'll provide basic routing instructions, guiding the agents to progress towards an exit point."
   ]
  },
  {
   "cell_type": "code",
   "execution_count": null,
   "id": "c1cfdadc",
   "metadata": {
    "collapsed": false
   },
   "outputs": [],
   "source": [
    "exit_polygon1 = [(5.45, 1.45), (5.15, 1.45), (5.15, 0.55), (5.45, 0.55)]\n",
    "exit_polygon2 = [(-5.45, 1.45), (-5.15, 1.45), (-5.15, 0.55), (-5.45, 0.55)]\n",
    "exit_polygon = [exit_polygon1, exit_polygon2]\n",
    "print(exit_polygon)\n",
    "journey_ids = []\n",
    "journey_ids.clear()\n",
    "for exit_pol in exit_polygon:\n",
    "    exit_id = simulation.add_exit_stage(exit_pol)\n",
    "    journey = jps.JourneyDescription()\n",
    "    journey.append(exit_id)\n",
    "    journey_id = simulation.add_journey(journey)\n",
    "    journey_ids.append(journey_id)"
   ]
  },
  {
   "cell_type": "markdown",
   "id": "269d95ac",
   "metadata": {
    "collapsed": false
   },
   "source": [
    "## Defining and Distributing Agents\n",
    "\n",
    "Now, we'll position the agents and establish their attributes, leveraging previously mentioned parameters such as `exit_id` and `profile_id`."
   ]
  },
  {
   "cell_type": "code",
   "execution_count": null,
   "id": "bad06382",
   "metadata": {
    "collapsed": false
   },
   "outputs": [],
   "source": [
    "agent_parameters_list = []\n",
    "agent_parameters_list.clear()\n",
    "for journey_id in journey_ids:\n",
    "    agent_parameters = jps.VelocityModelAgentParameters()\n",
    "    agent_parameters.journey_id = journey_id\n",
    "    agent_parameters.orientation = (0.0, 1.3)\n",
    "    agent_parameters.profile_id = profile_id\n",
    "    agent_parameters_list.append(agent_parameters)\n",
    "\n",
    "for agent_parameter in agent_parameters_list:\n",
    "    print(agent_parameter)\n",
    "\n",
    "total_agents = 20\n",
    "positions = []\n",
    "Polygon1 = Polygon([[-5, 3.25],[-2.5, 3.25],[-2.5, -1.25],[-5, -1.25]])\n",
    "Polygon2 = Polygon([[5, 3.25],[2.5, 3.25],[2.5, -1.25],[5, -1.25]])\n",
    "Poly_union=[Polygon1, Polygon2]\n",
    "_number_agents = total_agents\n",
    "num_poly = len(Poly_union)\n",
    "for s_polygon in Poly_union:\n",
    "        pos = distribute_by_number(\n",
    "                polygon=s_polygon,\n",
    "                number_of_agents=_number_agents/num_poly,\n",
    "                distance_to_agents=0.4,\n",
    "                distance_to_polygon=0.2,\n",
    "                seed=45131502,\n",
    "                )\n",
    "        total_agents -= total_agents/num_poly\n",
    "        positions.extend(pos)\n",
    "\n",
    "for pos1 in positions:\n",
    "        print(pos)\n",
    "\n",
    "for agent_parameter, new_pos in zip(agent_parameters_list,positions):\n",
    "    agent_parameter.position = new_pos\n",
    "    simulation.add_agent(agent_parameter)"
   ]
  },
  {
   "cell_type": "markdown",
   "id": "569d86fe",
   "metadata": {
    "collapsed": false
   },
   "source": [
    "## Executing the Simulation\n",
    "\n",
    "With all components in place, we're set to initiate the simulation.\n",
    "For this demonstration, the trajectories will be recorded in an sqlite database."
   ]
  },
  {
   "cell_type": "code",
   "execution_count": null,
   "id": "2a413666",
   "metadata": {
    "collapsed": false
   },
   "outputs": [],
   "source": [
    "trajectory_file = \"trajectories.sqlite\"\n",
    "writer = jps.SqliteTrajectoryWriter(pathlib.Path(trajectory_file))\n",
    "fps=25\n",
    "rate = 1/dt/fps\n",
    "writer.begin_writing(fps, to_wkt(GeometryCollection(walkable_area._polygon), rounding_precision=-1))\n",
    "\n",
    "while simulation.agent_count() > 0:\n",
    "    if simulation.iteration_count() % rate == 0:\n",
    "        writer.write_iteration_state(simulation)\n",
    "    simulation.iterate()\n",
    "    \n",
    "        \n",
    "writer.end_writing()"
   ]
  },
  {
   "cell_type": "markdown",
   "id": "078b5b68",
   "metadata": {
    "collapsed": false
   },
   "source": [
    "## Visualizing the Trajectories\n",
    "\n",
    "For trajectory visualization, we'll extract data from the sqlite database. A straightforward method for this is employing the jupedsim-visualizer."
   ]
  },
  {
   "cell_type": "code",
   "execution_count": null,
   "id": "9859a8ad",
   "metadata": {
    "collapsed": false,
    "tags": [
     "hide-input"
    ]
   },
   "outputs": [],
   "source": [
    "def sqlite_to_df(trajectory_file: str)->pd.DataFrame:\n",
    "       \"\"\"extract dataframe from sqlite.\"\"\" \n",
    "       with sqlite3.connect(trajectory_file) as conn:\n",
    "              cursor = conn.cursor()\n",
    "              cursor.execute(f\"SELECT * FROM trajectory_data\")\n",
    "              rows = cursor.fetchall()\n",
    "              \n",
    "       return pd.DataFrame(rows,columns=[\"frame\", \"id\", \"x\", \"y\", \"ox\", \"oy\"])\n",
    "\n",
    "def visualize(data_df: pd.DataFrame, area:GeometryCollection) -> Figure:\n",
    "       \"\"\"Generate moving trajectories based on simulation\"\"\"\n",
    "       range_color = [0, max(data_df[\"speed\"])]\n",
    "       data_df[\"radius\"] = 0.2\n",
    "       fig = px.scatter(\n",
    "              data_df,\n",
    "              x=\"x\",\n",
    "              y=\"y\",\n",
    "              animation_frame=\"frame\",\n",
    "              animation_group=\"id\",\n",
    "              size=\"radius\",\n",
    "              color=\"speed\",\n",
    "              range_color=range_color,\n",
    "              color_continuous_midpoint=np.mean(data_df[\"speed\"]), \n",
    "              color_continuous_scale=px.colors.diverging.RdBu_r[::-1],\n",
    "              labels={\"speed\": \"Speed\"},  \n",
    "       )\n",
    "       x, y = area.geoms[0].exterior.xy\n",
    "       fig.add_trace(go.Scatter(x=np.array(x), y=np.array(y),  mode='lines', line={\"color\": \"grey\"},))\n",
    "       for inner in area.geoms[0].interiors:\n",
    "              xi,yi = zip(*inner.coords[:])\n",
    "              fig.add_trace(go.Scatter(x=np.array(xi), y=np.array(yi),  mode='lines', line={\"color\": \"grey\"},))\n",
    "       \n",
    "       minx, miny, maxx, maxy = area.bounds\n",
    "       fig.update_xaxes(range=[minx, maxx])\n",
    "       fig.update_yaxes(range=[miny, maxy])\n",
    "       fig.layout.updatemenus[0].buttons[0].args[1][\"frame\"][\"duration\"] = 10\n",
    "       fig.layout.updatemenus[0].buttons[0].args[1][\"transition\"][\"duration\"] = 5\n",
    "       fig.update_geos(projection_type=\"equirectangular\", visible=True, resolution=110)\n",
    "       fig.update_traces(marker={\"line\": {\"width\": 0.5, \"color\": \"Gray\"}})\n",
    "       fig.update_geos(projection_type=\"equirectangular\", visible=True, resolution=110)\n",
    "       fig.update_coloraxes(colorbar=dict(title=\"Speed\"))\n",
    "       fig.update_layout(yaxis=dict(scaleanchor=\"x\", scaleratio=1), showlegend=False)\n",
    "       return fig"
   ]
  },
  {
   "cell_type": "code",
   "execution_count": null,
   "id": "2fa8683f",
   "metadata": {
    "collapsed": false,
    "tags": [
     "hide-input"
    ]
   },
   "outputs": [],
   "source": [
    "trajectory_data = pedpy.TrajectoryData(data=sqlite_to_df(trajectory_file), frame_rate=fps)\n",
    "speed = pedpy.compute_individual_speed(traj_data=trajectory_data, frame_step=5)\n",
    "speed = speed.merge(trajectory_data.data, on=['id', 'frame'], how='left')"
   ]
  },
  {
   "cell_type": "code",
   "execution_count": null,
   "id": "d3a264f1",
   "metadata": {},
   "outputs": [],
   "source": [
    "visualize(speed, GeometryCollection(walkable_area._polygon))"
   ]
  },
  {
   "cell_type": "markdown",
   "id": "7ea9fcbc",
   "metadata": {
    "collapsed": false
   },
   "source": [
    "## Measurement of the N-T curve and Voronoi density\n",
    "\n",
    "We evaluate the $N−t$ curve at the bottleneck's exit. The gradient of this curve provides insights into the flow rate through the bottleneck. Subsequently, we assess the Voronoi density preceding the bottleneck.\n",
    "\n",
    "To achieve this, we deifne a measurement line, delineated by two points representing the bottleneck's entrance. Additionally, we designate a square area to gauge the density directly in front of this entrance."
   ]
  },
  {
   "cell_type": "code",
   "execution_count": null,
   "id": "27175d6a",
   "metadata": {
    "collapsed": false
   },
   "outputs": [],
   "source": [
    "import warnings\n",
    "warnings.filterwarnings('ignore')\n",
    "measurement_area = pedpy.MeasurementArea(\n",
    "    [(-0.4, 0.5), (0.4, 0.5), (0.4, 1.3), (-0.4, 1.3)]\n",
    ")\n",
    "measurement_line = pedpy.MeasurementLine([(0.25, 0), (-0.25, 0)])\n",
    "nt, crossing_frames = pedpy.compute_n_t(traj_data=trajectory_data, measurement_line= measurement_line,)\n",
    "pedpy.plot_measurement_setup(\n",
    "                walkable_area=walkable_area,\n",
    "                hole_color=\"lightgrey\",\n",
    "                traj=trajectory_data,\n",
    "                traj_color=\"lightblue\",\n",
    "                traj_alpha=0.5,\n",
    "                traj_width=1,\n",
    "                measurement_lines=[measurement_line],\n",
    "                measurement_areas=[measurement_area],\n",
    "                ml_color=\"b\",\n",
    "                ma_color=\"r\",\n",
    "                ma_line_color=\"r\",\n",
    "                ma_line_width=1,\n",
    "                ma_alpha=0.2,\n",
    "            ).set_aspect(\"equal\")"
   ]
  },
  {
   "cell_type": "markdown",
   "id": "0a9bca20",
   "metadata": {
    "collapsed": false
   },
   "source": [
    "### $N-t$ curve"
   ]
  },
  {
   "cell_type": "code",
   "execution_count": null,
   "id": "febd29a9",
   "metadata": {
    "collapsed": false
   },
   "outputs": [],
   "source": [
    "flow_speed = pedpy.compute_flow(\n",
    "                nt=nt,\n",
    "                crossing_frames=crossing_frames,\n",
    "                individual_speed=speed,\n",
    "                delta_frame=10,\n",
    "                frame_rate=fps,\n",
    "            )\n",
    "pedpy.plot_nt(nt=nt);\n",
    "print(f\"Evacuation time: {max(nt.time)} seconds\")"
   ]
  },
  {
   "cell_type": "markdown",
   "id": "4b15b3b0",
   "metadata": {
    "collapsed": false
   },
   "source": [
    "### Voronoi density"
   ]
  },
  {
   "cell_type": "code",
   "execution_count": null,
   "id": "bbffba65",
   "metadata": {
    "collapsed": false
   },
   "outputs": [],
   "source": [
    "individual = pedpy.compute_individual_voronoi_polygons(traj_data=trajectory_data, walkable_area=walkable_area)\n",
    "density_voronoi, intersecting = pedpy.compute_voronoi_density(individual_voronoi_data=individual, measurement_area=measurement_area)"
   ]
  },
  {
   "cell_type": "code",
   "execution_count": null,
   "id": "71a20de9",
   "metadata": {
    "collapsed": false
   },
   "outputs": [],
   "source": [
    "classic_density = pedpy.compute_classic_density(\n",
    "    traj_data=trajectory_data, measurement_area=measurement_area\n",
    ")"
   ]
  },
  {
   "cell_type": "code",
   "execution_count": null,
   "id": "6adbab15",
   "metadata": {
    "collapsed": false
   },
   "outputs": [],
   "source": [
    "pedpy.plot_density(density=density_voronoi, color=\"red\");\n",
    "pedpy.plot_density(density=classic_density, title=\"Voronoi density (red) vs Classic density (blue)\");"
   ]
  },
  {
   "cell_type": "markdown",
   "id": "a4c85934",
   "metadata": {
    "collapsed": false
   },
   "source": [
    "## References & Further Exploration\n",
    "\n",
    "The operational model discussed in the Model section is based on the collision-free model. JuPedSim also incorporates another model known as GCFM. For more details on GCFM, refer to another notebook (TODO: Link to the GCFM notebook).\n",
    "\n",
    "Our demonstration employed a straightforward journey with a singular exit. For a more intricate journey featuring multiple intermediate stops and waiting zones, see the upcoming section (TODO: Link to the advanced journey section).\n",
    "\n",
    "While we designated a single parameter profile for agents in this example, it's feasible to define multiple parameter profiles. Learn how to alternate between these profiles in the subsequent section (TODO: Link to the profile-switching section)."
   ]
  }
 ],
 "metadata": {
  "kernelspec": {
   "argv": [
    "python",
    "-m",
    "ipykernel_launcher",
    "-f",
    "{connection_file}"
   ],
   "display_name": "Python 3 (ipykernel)",
   "env": null,
   "interrupt_mode": "signal",
   "language": "python",
   "metadata": {
    "debugger": true
   },
   "name": "python3"
  },
  "language_info": {
   "codemirror_mode": {
    "name": "ipython",
    "version": 3
   },
   "file_extension": ".py",
   "mimetype": "text/x-python",
   "name": "python",
   "nbconvert_exporter": "python",
   "pygments_lexer": "ipython3",
   "version": "3.11.4"
  },
  "name": "bottlenneck.ipynb"
 },
 "nbformat": 4,
 "nbformat_minor": 5
}
